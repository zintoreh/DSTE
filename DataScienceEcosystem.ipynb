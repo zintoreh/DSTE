{
 "cells": [
  {
   "cell_type": "markdown",
   "id": "bb7cfe91-3043-4801-8b8f-993a6f81e7e1",
   "metadata": {},
   "source": [
    "# Data Science Tools and Ecosystem"
   ]
  },
  {
   "cell_type": "markdown",
   "id": "770c250a-2af3-4960-8b96-ae9e0bd37e19",
   "metadata": {},
   "source": [
    " # Introduction\n",
    " In this notebook, Data Science Tools and Ecosystem are summarized."
   ]
  },
  {
   "cell_type": "markdown",
   "id": "f30c39c9-c6bf-47e7-a9bc-d17404fb1bf4",
   "metadata": {},
   "source": [
    "__Objectives:__\n",
    "\n",
    "* popular languages for data science\n",
    "* popular libraries for data science\n",
    "* data science tools"
   ]
  },
  {
   "cell_type": "markdown",
   "id": "9c516dd5-9656-49a8-bff7-b9258d9152ea",
   "metadata": {},
   "source": [
    "# Some of the Languages that  Data Scientists use are:\n",
    "1. Python\n",
    "2. R\n",
    "3. SQL\n",
    "4. Julia\n",
    "5. Scala\n",
    "6. Java\n",
    "7. MATLAB\n"
   ]
  },
  {
   "cell_type": "markdown",
   "id": "2f19e9c7-a3d8-438a-b545-838511620c13",
   "metadata": {},
   "source": [
    "# Some of the commonly used libraries used by Data Scientists include:\n",
    "## Python Libraries\n",
    "1. NumPy\n",
    "2. Pandas\n",
    "3. Matplotlib\n",
    "\n",
    "## R Libraries\n",
    "1. ggplot2\n",
    "2. dplyr\n",
    "3. tidyr"
   ]
  },
  {
   "cell_type": "markdown",
   "id": "bc727bcb-13f1-45e4-9e32-bb237098d8fa",
   "metadata": {},
   "source": [
    "# Data Science Tools\n",
    "| Tool |\n",
    "| Jupyter Notebook |\n",
    "| RStudio |\n",
    "| Apache Spark |"
   ]
  },
  {
   "cell_type": "markdown",
   "id": "60183ab2-2203-4652-ae2e-3770d1308aea",
   "metadata": {},
   "source": [
    "### Below are a few examples of evaluating arithmetic expressions in Python"
   ]
  },
  {
   "cell_type": "markdown",
   "id": "6420b92a-98d9-4230-adbb-81cb3e8358ab",
   "metadata": {},
   "source": [
    "# This is a simple arithmetic expression to multiply and add integers"
   ]
  },
  {
   "cell_type": "code",
   "execution_count": 14,
   "id": "ebd12dd7-d4d8-4fce-85dc-04c7026e74c6",
   "metadata": {},
   "outputs": [
    {
     "data": {
      "text/plain": [
       "17"
      ]
     },
     "execution_count": 14,
     "metadata": {},
     "output_type": "execute_result"
    }
   ],
   "source": [
    "(3*4)+5"
   ]
  },
  {
   "cell_type": "markdown",
   "id": "6155d614-74f3-45ff-b650-13cac65a43dc",
   "metadata": {},
   "source": [
    "# This will convert 200 minutes to hours by dividing by 60"
   ]
  },
  {
   "cell_type": "code",
   "execution_count": 17,
   "id": "d39dcc52-b21b-4091-8c6d-02bacc53cd44",
   "metadata": {},
   "outputs": [
    {
     "data": {
      "text/plain": [
       "3.3333333333333335"
      ]
     },
     "execution_count": 17,
     "metadata": {},
     "output_type": "execute_result"
    }
   ],
   "source": [
    "200/60"
   ]
  },
  {
   "cell_type": "markdown",
   "id": "4a28cfd9-d0e9-4d05-a17a-0863985c57c3",
   "metadata": {},
   "source": [
    "## Author\n",
    "Zin"
   ]
  }
 ],
 "metadata": {
  "kernelspec": {
   "display_name": "anaconda-2022.05-py39",
   "language": "python",
   "name": "conda-env-anaconda-2022.05-py39-py"
  },
  "language_info": {
   "codemirror_mode": {
    "name": "ipython",
    "version": 3
   },
   "file_extension": ".py",
   "mimetype": "text/x-python",
   "name": "python",
   "nbconvert_exporter": "python",
   "pygments_lexer": "ipython3",
   "version": "3.9.12"
  }
 },
 "nbformat": 4,
 "nbformat_minor": 5
}
